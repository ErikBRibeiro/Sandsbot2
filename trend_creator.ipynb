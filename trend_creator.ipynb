{
 "cells": [
  {
   "cell_type": "code",
   "execution_count": null,
   "metadata": {},
   "outputs": [],
   "source": [
    "def label_trend(df, lateral_threshold=0.005):\n",
    "    \"\"\"\n",
    "    Cria uma coluna de tendência no DataFrame:\n",
    "    - 1 para Alta\n",
    "    - 0 para Lateral\n",
    "    - -1 para Baixa\n",
    "    \n",
    "    Parameters:\n",
    "        df (DataFrame): DataFrame com a coluna 'close'.\n",
    "        lateral_threshold (float): Limite percentual para definir lateralidade.\n",
    "    \n",
    "    Returns:\n",
    "        DataFrame: DataFrame com a coluna 'trend' adicionada.\n",
    "    \"\"\"\n",
    "    df = df.copy()\n",
    "    df['pct_change'] = df['close'].pct_change().shift(-1)  # Mudança percentual\n",
    "    df['trend'] = 0  # Padrão: Lateral\n",
    "    \n",
    "    # Classificar tendências\n",
    "    df.loc[df['pct_change'] > lateral_threshold, 'trend'] = 1  # Alta\n",
    "    df.loc[df['pct_change'] < -lateral_threshold, 'trend'] = -1  # Baixa\n",
    "    \n",
    "    df.drop(columns=['pct_change'], inplace=True)  # Remover coluna auxiliar\n",
    "    return df\n",
    "\n",
    "# Aplicar ao dataset menor\n",
    "solusdt_df = label_trend(solusdt_df)\n",
    "\n",
    "# Aplicar ao dataset maior\n",
    "btcusdt_df = label_trend(btcusdt_df)\n"
   ]
  }
 ],
 "metadata": {
  "language_info": {
   "name": "python"
  }
 },
 "nbformat": 4,
 "nbformat_minor": 2
}
